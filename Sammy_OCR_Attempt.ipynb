{
 "cells": [
  {
   "cell_type": "code",
   "execution_count": 1,
   "metadata": {},
   "outputs": [
    {
     "name": "stdout",
     "output_type": "stream",
     "text": [
      "Requirement already satisfied: opencv-python in /home/sammyshear/anaconda3/envs/ocr_env/lib/python3.8/site-packages (4.5.3.56)\n",
      "Requirement already satisfied: numpy>=1.17.3 in /home/sammyshear/anaconda3/envs/ocr_env/lib/python3.8/site-packages (from opencv-python) (1.21.2)\n",
      "Requirement already satisfied: pytesseract in /home/sammyshear/anaconda3/envs/ocr_env/lib/python3.8/site-packages (0.3.8)\n",
      "Requirement already satisfied: Pillow in /home/sammyshear/anaconda3/envs/ocr_env/lib/python3.8/site-packages (from pytesseract) (8.3.2)\n"
     ]
    }
   ],
   "source": [
    "!pip install opencv-python\n",
    "!pip install pytesseract"
   ]
  },
  {
   "cell_type": "code",
   "execution_count": 2,
   "metadata": {},
   "outputs": [],
   "source": [
    "import cv2\n",
    "import pytesseract"
   ]
  },
  {
   "cell_type": "code",
   "execution_count": 3,
   "metadata": {},
   "outputs": [],
   "source": [
    "img = cv2.imread(\"source_data/image2.jpg\")\n",
    "grayImg = cv2.cvtColor(img, cv2.COLOR_BGR2GRAY)\n",
    "(thresh, bAndWImg) = cv2.threshold(grayImg, 127, 255, cv2.THRESH_BINARY)"
   ]
  },
  {
   "cell_type": "code",
   "execution_count": 4,
   "metadata": {},
   "outputs": [],
   "source": [
    "originalText = pytesseract.image_to_string(img)\n",
    "grayText = pytesseract.image_to_string(grayImg)\n",
    "bAndWText = pytesseract.image_to_string(bAndWImg)"
   ]
  },
  {
   "cell_type": "code",
   "execution_count": 6,
   "metadata": {},
   "outputs": [
    {
     "name": "stdout",
     "output_type": "stream",
     "text": [
      "Original Text:\n",
      " SE AND CULTURE ATLAS OF AS\n",
      "\n",
      "101S+(/95390\n",
      "INT, DIS#(790( /185\n",
      "UpNGARIS®\n",
      "jipise iM\n",
      "\n",
      "NeSSRIS* GUT ENR\n",
      "\n",
      "D1S#Xxx(/016900 VAJS3KV1Se(/12)925\n",
      "101 S+ (709 10414 / 193940\n",
      "J101S¢\n",
      "JIDLS+ CMUUCL,PCIRLS+ IGL ALAU (DRTC OMBALSY\n",
      "O1S+(790(/185909\n",
      "+(/181990\n",
      "1s+\n",
      "JFL, O1S+(/065900(799\n",
      "QLAT s0J1S+ CM 101S+\n",
      "* [DIS *(/1410201 7001059\n",
      "AXE »RS¢OJVE yDER TyNGBIRIS#C CFLAGS 4LIN\n",
      "#NIZ+G2TURTARGJZUG+ KANINGS3R1Z+VIRT/NAML CLN\n",
      "3R(087 CLN JLOIS* QLNHi\n",
      "ACHL3KC(41\n",
      "FPOJLLS+ Q=J19IS+(/259950 2S KINGRES POJLIS+1\n",
      "JI01 st\n",
      "A FOsLKS JI-31S¢/QI ELSW QU 140T%\n",
      "191S+(/22393\n",
      "214S14S#/2USIS+( /220903 ARA* GI 4KO5PT (087\n",
      "TDT4S+(/220305 ARBIGT3R3AVEGINTS\n",
      "y1D1Se\n",
      "J1D1S+ (7215900\n",
      "ID1S+\n",
      "DLS+(790(/094900\n",
      "JIDIS+ 2M UKRAySNLS+\n",
      "Q2 AFIDIS+ QI TSU LER\n",
      "92 AFJ=1D1S+(7220900(\n",
      "2 DUS IDLS+K8EJT(/278!\n",
      "JIDIS+ 2M GOJLS* (79910\n",
      "1S+/POSLIS#/ RUS1S\n",
      "22 JIDLS#LNPOJLIS+\n",
      "J1D1S+(/18 5900\n",
      "\n",
      "NEN JIDISH(/22\n",
      "4)\n",
      "ar\n",
      "\n",
      "18+ 2M POJLLS#(/001069 C4 DAJC#(7/901950\n",
      "QaP JIDIS+ (708\n",
      "\n",
      "TAM(/135010(372(/13\n",
      "IDES* QALSO LITVES+\n",
      "\n",
      " \n",
      "\f\n",
      "Gray Text:\n",
      " AND CULTURE ATLAS OF AS\n",
      "\n",
      "1s+\n",
      "D1S#(/001 90\n",
      "15¢(/005900\n",
      "1S¢N(/020\n",
      "+(/006900\n",
      "D1S+(/95390\n",
      "INT, D1S4(790( /185\n",
      "UsNGARIS# }=1,NGB3RIS*\n",
      "\n",
      "Meas RIS OeUT\n",
      "\n",
      "1S+XX(/01 6900 VAJS3XV1S#(/12\n",
      "1S¢ (709 10411 / 193940\n",
      "\n",
      "JIDIS* CMU(CLPCIRIS# QGL ALAUCDAICHMEAL\n",
      "3FI,015¢(790(/185909\n",
      "+(7181990\n",
      "1D1S+\n",
      "JFL, D1S+(7065900(790\n",
      "QLAT 30J1S+ cM To1s+\n",
      "#IDIS*(/141020( 7001059\n",
      "AXE )RS¢OJ VI pDER I yNGB3RIS#U (FLAS S4LIN\n",
      "#NIZ4G1TURTAROJZUG+ KANINGS3R1Z+VIAT/MAML CLN\n",
      "INGB3R1S+ QXEJO3R(087 CLN JIDIS+ Ql\n",
      "#VUyS191S ACOL3KC (41\n",
      "= OK AGL FPOSLIS+ Q-J191S+(/95995 POJLL Sel\n",
      "J101 St\n",
      "FO osLKS JI-D1S¢/QI ELSH QU I4016S+\n",
      "#722399\n",
      "165#/2USIS+( /220903 AR Av GI 4xO5PT (067\n",
      "St (/220908 ARBIGT33AVEGINTS\n",
      "D1S+ (721 5900\n",
      "1, DLS+ (79070949\n",
      "101 Se\n",
      "JIDIS+ 2M UKRAyJNLS*\n",
      "Q2 AFIDIS+ QI TSU LERNEN JIDISH(/220900(984(7\n",
      "10200 53253 92 AFJ= {01 $+ (7220900179\n",
      "102 3 Q2 DUS IDLS+KBEJT(/9 780601 /2\n",
      "a1.0290 JIDIS¢ 2m SOJLS+ (709104) CN\n",
      "10200 S12 JSIO1S+/POJLIS+/RUSIS+ GT\n",
      "10200 Q2 JIDLS#LNPOULIS+\n",
      "1.0200 3 STD1S#(/18 5900\n",
      "10200\n",
      "1.020 S+ 2M POJLES#(/001069 C4 DAJC#(/901950\n",
      "102 1 E JTOLS+ (/08\n",
      "praca\n",
      "02 JLO1S* CW POLES? CHR\n",
      "UIOLS+ CH PIULIS+\n",
      "TAM (/135010(372(/13\n",
      "TDES+ QALSO LITVES+ OM\n",
      "\n",
      " \n",
      "\f\n",
      "Black and White Text (thresh=127.0):\n",
      " [[0 0 0 ... 0 0 0]\n",
      " [0 0 0 ... 0 0 0]\n",
      " [0 0 0 ... 0 0 0]\n",
      " ...\n",
      " [0 0 0 ... 0 0 0]\n",
      " [0 0 0 ... 0 0 0]\n",
      " [0 0 0 ... 0 0 0]]\n"
     ]
    }
   ],
   "source": [
    "print(\"Original Text:\\n\", originalText)\n",
    "print(\"Gray Text:\\n\", grayText)\n",
    "print(\"Black and White Text (thresh=\" + str(thresh) + \"):\\n\", bAndWImg)"
   ]
  }
 ],
 "metadata": {
  "interpreter": {
   "hash": "fa71cc410ce9ccbe99e68904f5bc9d242c31f1df41a092022400565fff9afe34"
  },
  "kernelspec": {
   "display_name": "Python 3.8.0 64-bit ('ocr_env': conda)",
   "name": "python3"
  },
  "language_info": {
   "codemirror_mode": {
    "name": "ipython",
    "version": 3
   },
   "file_extension": ".py",
   "mimetype": "text/x-python",
   "name": "python",
   "nbconvert_exporter": "python",
   "pygments_lexer": "ipython3",
   "version": "3.8.0"
  },
  "orig_nbformat": 4
 },
 "nbformat": 4,
 "nbformat_minor": 2
}
