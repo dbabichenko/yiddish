{
 "cells": [
  {
   "cell_type": "markdown",
   "metadata": {},
   "source": [
    "### Note ###\n",
    "The only way I got this to work was by installing poppler-utils in my WSL distro. I am not sure how to do that on Windows itself or MacOS.\n",
    "__Update:__\n",
    "poppler-utils is also available through PyPI and they also have a website."
   ]
  },
  {
   "cell_type": "code",
   "execution_count": 1,
   "metadata": {},
   "outputs": [
    {
     "name": "stdout",
     "output_type": "stream",
     "text": [
      "Collecting pdf2image\n",
      "  Downloading pdf2image-1.16.0-py3-none-any.whl (10 kB)\n",
      "Collecting pillow\n",
      "  Downloading Pillow-8.4.0-cp310-cp310-manylinux_2_17_x86_64.manylinux2014_x86_64.whl (3.1 MB)\n",
      "\u001b[K     |████████████████████████████████| 3.1 MB 2.5 MB/s \n",
      "\u001b[?25hInstalling collected packages: pillow, pdf2image\n",
      "Successfully installed pdf2image-1.16.0 pillow-8.4.0\n",
      "Collecting poppler-utils\n",
      "  Downloading poppler_utils-0.1.0-py3-none-any.whl (9.2 kB)\n",
      "Collecting Click>=7.0\n",
      "  Downloading click-8.0.3-py3-none-any.whl (97 kB)\n",
      "\u001b[K     |████████████████████████████████| 97 kB 3.2 MB/s \n",
      "\u001b[?25hInstalling collected packages: Click, poppler-utils\n",
      "Successfully installed Click-8.0.3 poppler-utils-0.1.0\n"
     ]
    }
   ],
   "source": [
    "!pip install pdf2image\n",
    "!pip install poppler-utils"
   ]
  },
  {
   "cell_type": "code",
   "execution_count": 2,
   "metadata": {},
   "outputs": [],
   "source": [
    "import pdf2image"
   ]
  },
  {
   "cell_type": "code",
   "execution_count": 3,
   "metadata": {},
   "outputs": [],
   "source": [
    "filepath = \"source_data/LCAAJ_184A_BlueDot_1-3_answersheetpdfs/\""
   ]
  },
  {
   "cell_type": "code",
   "execution_count": 4,
   "metadata": {},
   "outputs": [],
   "source": [
    "def imgFromPDF(filename):\n",
    "    images = pdf2image.convert_from_path(filename)\n",
    " \n",
    "    for i in range(len(images)):\n",
    "   \n",
    "        # Save pages as images in the pdf\n",
    "        images[i].save(filename.replace('.pdf', '') + 'page'+ str(i) +'.jpg', 'JPEG')\n",
    "        return filename.replace('.pdf', '') + 'page'+ str(i) +'.jpg'\n",
    "\n",
    "imgPath = imgFromPDF(filepath + \"LCAAJ_184A_BlueDot_1_00003.pdf\")"
   ]
  },
  {
   "cell_type": "code",
   "execution_count": 5,
   "metadata": {},
   "outputs": [
    {
     "name": "stdout",
     "output_type": "stream",
     "text": [
      "Collecting opencv-python\n",
      "  Downloading opencv_python-4.5.4.58-cp310-cp310-manylinux2014_x86_64.whl (60.3 MB)\n",
      "\u001b[K     |████████████████████████████████| 60.3 MB 691 kB/s \n",
      "\u001b[?25hCollecting numpy>=1.21.2\n",
      "  Downloading numpy-1.21.3-cp310-cp310-manylinux_2_17_x86_64.manylinux2014_x86_64.whl (15.9 MB)\n",
      "\u001b[K     |████████████████████████████████| 15.9 MB 596 kB/s \n",
      "\u001b[?25hInstalling collected packages: numpy, opencv-python\n",
      "Successfully installed numpy-1.21.3 opencv-python-4.5.4.58\n",
      "Collecting pytesseract\n",
      "  Downloading pytesseract-0.3.8.tar.gz (14 kB)\n",
      "Requirement already satisfied: Pillow in /home/sammyshear/anaconda3/envs/ocr_env/lib/python3.10/site-packages (from pytesseract) (8.4.0)\n",
      "Using legacy 'setup.py install' for pytesseract, since package 'wheel' is not installed.\n",
      "Installing collected packages: pytesseract\n",
      "    Running setup.py install for pytesseract ... \u001b[?25ldone\n",
      "\u001b[?25hSuccessfully installed pytesseract-0.3.8\n"
     ]
    }
   ],
   "source": [
    "!pip install opencv-python\n",
    "!pip install pytesseract"
   ]
  },
  {
   "cell_type": "code",
   "execution_count": 6,
   "metadata": {},
   "outputs": [
    {
     "name": "stdout",
     "output_type": "stream",
     "text": [
      "Original Text:\n",
      " = _ PAGE aie . = — —\n",
      "LANGUAGE AND CULTURE ATLAS OF ASHKENAZIC JEWRY, EDITED RESPONSES\n",
      "\n",
      "ee  ————————————— SS\n",
      "PAR LOCRF PAGQUNO INTVN R ### RESPONSES ++**\n",
      "\n",
      "OO1NNGG 49272 QED Pe 1-44 INF A/P 45-229 INF 8 OFTEN INFL NEY HUSB BUT *\n",
      "OO1LNGGO 49272 *SELF CORRECT. — eee eens\n",
      "50223 9019000 49229 Y¥ Y9* DAUGHTER JER3SL3F($49229 G3VEJZN(/046020 IN MA.N3 _*\n",
      "——_______50223 O01C000 49229 Y #/,JF zRASL3F FIFCN TOU-— 2229\n",
      "54462-4612 9463-—5 He 6 tb —#§ —¥9#_ FRIEND FROM VIELUNE $5124.81 -\n",
      "52243. 6919000 52268 Y QED XREF TO($53262 SHOULD BE($52268\n",
      "53262 O910000 52268 Y QED XREF TOL$52268 SHOULD BE($52243\n",
      "\n",
      " \n",
      "\n",
      " \n",
      "\n",
      " \n",
      "\n",
      " \n",
      "\n",
      " \n",
      "\n",
      " \n",
      "\n",
      " \n",
      "\n",
      " \n",
      "\f\n",
      "Gray Text:\n",
      " PAGE 3\n",
      "LANGUAGE AND CULTURE ATLAS OF ASHKENAZIC JEWRY, EDITED RESPONSES\n",
      "\n",
      "ee OF FORMAT! £9 6/646\n",
      "PAR LOCRF PAGQUNO INTVN R ##% RESPONSES +++\n",
      "\n",
      "90l9neG 49272 QED Pe 1-44 INF A/P 45~229 INF 8 OFTEN INFL NEY HUS8 BUT *\n",
      "OOLICGO 49272 *SELF CORRECT. ee\n",
      "50223 9010000 49229 ¥ Y9* DAUGHTER JER3SL3F($49229 G3VEJZN(/046020 LN MA.N3 *\n",
      "fealieensiieinnaereees tdi ia U Oe ese ee oa eee eee eee oe ne cE\n",
      "—SEE62—4£613960-—5 1H 6b —¥ 794 FREEND- FROM VIELUNE S52484\n",
      "52243  O919000 52268 Y QED XREF TO($53262 SHOULD BE($52268\n",
      "53262 OO910000 52268 Y QED XREF TO($52268 SHOULD BE($52243\n",
      "\n",
      " \n",
      "\n",
      " \n",
      "\n",
      " \n",
      "\n",
      " \n",
      "\n",
      " \n",
      "\n",
      " \n",
      "\n",
      " \n",
      "\n",
      " \n",
      "\n",
      " \n",
      "\f\n",
      "Black and White Text (thresh=127.0):\n",
      "  \n",
      "\n",
      "PARK\n",
      "\n",
      "LUCRE\n",
      "\n",
      "PA&GOUNO  INTYN\n",
      "\n",
      "ON1900C 49272\n",
      "aq19qaca 49272\n",
      "ALbtcul #9229\n",
      "Beli cae 49229\n",
      "\n",
      "ERP Spb ad -\n",
      "\n",
      "7, 70° 522A eB\n",
      "Tbocer $2268\n",
      "\n",
      "R\n",
      "\n",
      "PAGE 3\n",
      "\n",
      "LANGUAGE AND CULTURE ATLAS OF ASHKENAZIC JEWRY, EDITED RESPONSES\n",
      "ee eeSSSSSSSAATLE OOF FORMAT ID /1 6/06\n",
      "tee RE SPONSES *+*\n",
      "\n",
      "SEO Pe L-4+4 INF ASP 45-229 INF B OFTEN INFL NEY HUSH BUT\n",
      "#SLLF CORRECT eo\n",
      "\n",
      "¥9* QAUGHTER JEKISLIF( 649229 G3VESJZNE/946029 IN MAND *\n",
      "S/dEsQ3SL2F FLFCN TU--2NT 1849229\n",
      "VIS FREER FROM VIELUNESSLEBY\n",
      "\n",
      "wEL ARLEN TEOSS3252 SHULD BEC SE2268\n",
      "WEC MNEF TOCS$52263 SHUULD BEC $52243\n",
      "\n",
      " \n",
      "\n",
      " \n",
      "\n",
      " \n",
      "\n",
      " \n",
      "\n",
      " \n",
      "\n",
      " \n",
      "\n",
      " \n",
      "\n",
      " \n",
      "\n",
      " \n",
      "\n",
      " \n",
      "\n",
      " \n",
      "\f\n"
     ]
    }
   ],
   "source": [
    "import cv2\n",
    "import pytesseract\n",
    "\n",
    "img = cv2.imread(imgPath)\n",
    "grayImg = cv2.cvtColor(img, cv2.COLOR_BGR2GRAY)\n",
    "(thresh, bAndWImg) = cv2.threshold(grayImg, 127, 255, cv2.THRESH_BINARY)\n",
    "\n",
    "originalText = pytesseract.image_to_string(img)\n",
    "grayText = pytesseract.image_to_string(grayImg)\n",
    "bAndWText = pytesseract.image_to_string(bAndWImg)\n",
    "\n",
    "print(\"Original Text:\\n\", originalText)\n",
    "print(\"Gray Text:\\n\", grayText)\n",
    "print(\"Black and White Text (thresh=\" + str(thresh) + \"):\\n\", bAndWText)"
   ]
  }
 ],
 "metadata": {
  "interpreter": {
   "hash": "fa71cc410ce9ccbe99e68904f5bc9d242c31f1df41a092022400565fff9afe34"
  },
  "kernelspec": {
   "display_name": "Python 3.10.0 64-bit ('ocr_env': conda)",
   "name": "python3"
  },
  "language_info": {
   "codemirror_mode": {
    "name": "ipython",
    "version": 3
   },
   "file_extension": ".py",
   "mimetype": "text/x-python",
   "name": "python",
   "nbconvert_exporter": "python",
   "pygments_lexer": "ipython3",
   "version": "3.10.0"
  },
  "orig_nbformat": 4
 },
 "nbformat": 4,
 "nbformat_minor": 2
}
